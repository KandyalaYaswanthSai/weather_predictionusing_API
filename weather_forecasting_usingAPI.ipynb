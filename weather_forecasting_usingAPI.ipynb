{
  "nbformat": 4,
  "nbformat_minor": 0,
  "metadata": {
    "colab": {
      "provenance": []
    },
    "kernelspec": {
      "name": "python3",
      "display_name": "Python 3"
    },
    "language_info": {
      "name": "python"
    }
  },
  "cells": [
    {
      "cell_type": "code",
      "execution_count": null,
      "metadata": {
        "id": "0XPDME4TJBk-"
      },
      "outputs": [],
      "source": [
        "import requests\n",
        "import json\n",
        "import argparse\n",
        "\n",
        "def get_weather(city):\n",
        "    api_key = \"YOUR_API_KEY\"  #Replace with your OpenWeatherMap APIkey\n",
        "    url = f\"http://api.openweathermap.org/data/2.5/weather?q={city}&appid={api_key}&units=metric\"\n",
        "    try:\n",
        "        response = requests.get(url)\n",
        "        response.raise_for_status()  #Check for request errors\n",
        "        data = response.json()\n",
        "        if data[\"cod\"] != 200:\n",
        "            raise ValueError(data[\"message\"])  # Handle error messages\n",
        "        weather_description = data[\"weather\"][0][\"description\"]\n",
        "        temperature = data[\"main\"][\"temp\"]\n",
        "        humidity = data[\"main\"][\"humidity\"]\n",
        "        return weather_description, temperature, humidity\n",
        "    except requests.exceptions.RequestException as err:\n",
        "        print(\"An error occurred:\", err)\n",
        "        return None\n",
        "    except (KeyError, ValueError) as err:\n",
        "        print(\"Invalid response from API:\", err)\n",
        "        return None\n",
        "def main():\n",
        "    parser = argparse.ArgumentParser(description=\"Get current weather forecast for city.\")\n",
        "    parser.add_argument(\"city\", help=\"City name for weather forecast\")\n",
        "    args = parser.parse_args()\n",
        "    city = args.city\n",
        "    weather_info = get_weather(city)\n",
        "    if weather_info:\n",
        "        description,temperature,humidity=weather_info\n",
        "        print(f\"Weather forecast for {city}:\")\n",
        "        print(f\"Description: {description}\")\n",
        "        print(f\"Temperature: {temperature}°C\")\n",
        "        print(f\"Humidity: {humidity}%\")\n",
        "    else:\n",
        "        print(f\"Failed to get weather forecast for {city}\")\n",
        "if __name__ == \"__main__\":\n",
        "    main()\n",
        "\n"
      ]
    }
  ]
}